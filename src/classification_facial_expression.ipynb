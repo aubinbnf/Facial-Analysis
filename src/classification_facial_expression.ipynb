{
  "nbformat": 4,
  "nbformat_minor": 0,
  "metadata": {
    "colab": {
      "provenance": [],
      "gpuType": "T4",
      "authorship_tag": "ABX9TyN9gQTcFqEEovcjeZJEzFhj"
    },
    "kernelspec": {
      "name": "python3",
      "display_name": "Python 3"
    },
    "language_info": {
      "name": "python"
    },
    "accelerator": "GPU"
  },
  "cells": [
    {
      "cell_type": "code",
      "source": [
        "import pandas as pd\n",
        "import numpy as np"
      ],
      "metadata": {
        "id": "KgUaYnUABzM-"
      },
      "execution_count": 1,
      "outputs": []
    },
    {
      "cell_type": "markdown",
      "source": [
        "## Data Collection"
      ],
      "metadata": {
        "id": "NczZSA8NQxbu"
      }
    },
    {
      "cell_type": "code",
      "execution_count": 2,
      "metadata": {
        "colab": {
          "base_uri": "https://localhost:8080/"
        },
        "id": "QvNSUtf2BC5B",
        "outputId": "19ed0dea-ae5b-44cf-de57-0735346b4e39"
      },
      "outputs": [
        {
          "output_type": "stream",
          "name": "stdout",
          "text": [
            "Mounted at /content/drive\n"
          ]
        }
      ],
      "source": [
        "from google.colab import drive\n",
        "\n",
        "drive.mount('/content/drive')\n",
        "data = pd.read_csv('/content/drive/MyDrive/Colab Notebooks/datasets/FER2013/fer2013.csv')"
      ]
    },
    {
      "cell_type": "markdown",
      "source": [
        "## Data Preprocessing"
      ],
      "metadata": {
        "id": "xB8BLthRQiHa"
      }
    },
    {
      "cell_type": "code",
      "source": [
        "def preprocess_images(data):\n",
        "    images = []\n",
        "    labels = data['emotion'].values\n",
        "\n",
        "    for pixel_sequence in data['pixels']:\n",
        "        single_image = np.fromstring(pixel_sequence, dtype=int, sep=' ')\n",
        "        single_image = single_image.reshape(48, 48)\n",
        "        images.append(single_image)\n",
        "\n",
        "    images = np.array(images, dtype='float32')\n",
        "    images = np.expand_dims(images, -1)  # Additional dimension for channels\n",
        "    images /= 255.0  # Standardization (value between 0 and 1)\n",
        "\n",
        "    return images, labels"
      ],
      "metadata": {
        "id": "w8m_hdaUBfDe"
      },
      "execution_count": 3,
      "outputs": []
    },
    {
      "cell_type": "code",
      "source": [
        "images, labels = preprocess_images(data)\n",
        "print(f\"\\nNumber of images in dataset: {len(images)}\")"
      ],
      "metadata": {
        "colab": {
          "base_uri": "https://localhost:8080/"
        },
        "id": "xhGdv3I-B92h",
        "outputId": "08a07de1-1c4d-46bd-8ee5-9a068e05fae4"
      },
      "execution_count": 4,
      "outputs": [
        {
          "output_type": "stream",
          "name": "stdout",
          "text": [
            "\n",
            "Number of images in dataset: 35887\n"
          ]
        }
      ]
    },
    {
      "cell_type": "code",
      "source": [
        "from sklearn.model_selection import train_test_split\n",
        "\n",
        "images1D = images.reshape(images.shape[0], -1)\n",
        "X_train, X_test, y_train, y_test = train_test_split(images1D, labels, test_size=0.25, random_state=42)\n",
        "X_train, X_val, y_train, y_val = train_test_split(X_train, y_train, test_size=0.2, random_state=42)"
      ],
      "metadata": {
        "id": "3tMI7xhPCAQz"
      },
      "execution_count": 5,
      "outputs": []
    },
    {
      "cell_type": "markdown",
      "source": [
        "### SMOTE"
      ],
      "metadata": {
        "id": "4oBs2h1sQl3O"
      }
    },
    {
      "cell_type": "code",
      "source": [
        "from imblearn.over_sampling import SMOTE\n",
        "from collections import Counter\n",
        "from sklearn.utils import resample\n",
        "import matplotlib.pyplot as plt\n",
        "\n",
        "sm = SMOTE(random_state=42)\n",
        "X_train_sm, y_train_sm = sm.fit_resample(X_train, y_train)\n",
        "\n",
        "label_counts = Counter(y_train_sm)\n",
        "\n",
        "emotions, counts = zip(*label_counts.items())\n",
        "\n",
        "plt.figure(figsize=(10, 5))\n",
        "plt.bar(emotions, counts, color='skyblue')\n",
        "plt.xlabel('Émotions')\n",
        "plt.ylabel('Nombre d\\'exemples')\n",
        "plt.title('Distribution des classes d\\'émotions dans le dataset')\n",
        "plt.xticks(emotions, ['Colère', 'Dégoût', 'Peur', 'Joie', 'Tristesse', 'Surprise', 'Neutre'])\n",
        "plt.show()"
      ],
      "metadata": {
        "colab": {
          "base_uri": "https://localhost:8080/",
          "height": 488
        },
        "id": "Ui8tCYSqCPUL",
        "outputId": "cc7b294c-3060-4bca-b67e-50a517b04f96"
      },
      "execution_count": 6,
      "outputs": [
        {
          "output_type": "display_data",
          "data": {
            "text/plain": [
              "<Figure size 1000x500 with 1 Axes>"
            ],
            "image/png": "[encoded data removed]"
          },
          "metadata": {}
        }
      ]
    },
    {
      "cell_type": "code",
      "source": [
        "from tensorflow.keras.utils import to_categorical\n",
        "\n",
        "train_images = X_train_sm.reshape(-1 ,48, 48)\n",
        "train_labels = to_categorical(y_train_sm, num_classes=7)\n",
        "val_images = X_val.reshape(-1, 48, 48)\n",
        "val_labels = to_categorical(y_val, num_classes=7)\n",
        "test_images = X_test.reshape(-1, 48, 48)\n",
        "test_labels = to_categorical(y_test, num_classes=7)"
      ],
      "metadata": {
        "id": "z4G4inX9EMPH"
      },
      "execution_count": 7,
      "outputs": []
    },
    {
      "cell_type": "code",
      "source": [
        "train_images = np.expand_dims(train_images, axis=-1)\n",
        "val_images = np.expand_dims(val_images, axis=-1)\n",
        "test_images = np.expand_dims(test_images, axis=-1)"
      ],
      "metadata": {
        "id": "iWl0dqADGE-h"
      },
      "execution_count": 10,
      "outputs": []
    },
    {
      "cell_type": "markdown",
      "source": [
        "## Construction of the Classification Model"
      ],
      "metadata": {
        "id": "ZxIZX1aSQX0V"
      }
    },
    {
      "cell_type": "code",
      "source": [
        "from tensorflow.keras.models import Sequential\n",
        "from tensorflow.keras.layers import Conv2D, MaxPooling2D, Flatten, Dense, Dropout\n",
        "\n",
        "model = Sequential([\n",
        "    Conv2D(32, (3, 3), activation='relu', input_shape=(48, 48, 1)),\n",
        "    MaxPooling2D((2, 2)),\n",
        "    Conv2D(64, (3, 3), activation='relu'),\n",
        "    MaxPooling2D((2, 2)),\n",
        "    Conv2D(128, (3, 3), activation='relu'),\n",
        "    MaxPooling2D((2, 2)),\n",
        "    Flatten(),\n",
        "    Dense(1024, activation='relu'),\n",
        "    Dropout(0.5),\n",
        "    Dense(7, activation='softmax')  # 7 is the number of expression classes in FER-2013\n",
        "])\n",
        "\n",
        "model.compile(optimizer='adam', loss='categorical_crossentropy', metrics=['accuracy'])"
      ],
      "metadata": {
        "colab": {
          "base_uri": "https://localhost:8080/"
        },
        "id": "CIjXhJmmCdSL",
        "outputId": "74a3c291-5210-473a-91f6-9b1308b8fa6a"
      },
      "execution_count": 12,
      "outputs": [
        {
          "output_type": "stream",
          "name": "stderr",
          "text": [
            "/usr/local/lib/python3.10/dist-packages/keras/src/layers/convolutional/base_conv.py:107: UserWarning: Do not pass an `input_shape`/`input_dim` argument to a layer. When using Sequential models, prefer using an `Input(shape)` object as the first layer in the model instead.\n",
            "  super().__init__(activity_regularizer=activity_regularizer, **kwargs)\n"
          ]
        }
      ]
    },
    {
      "cell_type": "markdown",
      "source": [
        "## Model Training"
      ],
      "metadata": {
        "id": "TkJFwnafQPEX"
      }
    },
    {
      "cell_type": "code",
      "source": [
        "history = model.fit(train_images, train_labels, epochs=50, batch_size=64, validation_data=(val_images, val_labels))"
      ],
      "metadata": {
        "colab": {
          "base_uri": "https://localhost:8080/"
        },
        "id": "OH3FtToKC077",
        "outputId": "3ffbc0cb-50fa-4fb6-cee0-84c2c1156aad"
      },
      "execution_count": 13,
      "outputs": [
        {
          "output_type": "stream",
          "name": "stdout",
          "text": [
            "Epoch 1/50\n",
            "\u001b[1m587/587\u001b[0m \u001b[32m━━━━━━━━━━━━━━━━━━━━\u001b[0m\u001b[37m\u001b[0m \u001b[1m16s\u001b[0m 15ms/step - accuracy: 0.2703 - loss: 1.7943 - val_accuracy: 0.4555 - val_loss: 1.4303\n",
            "Epoch 2/50\n",
            "\u001b[1m587/587\u001b[0m \u001b[32m━━━━━━━━━━━━━━━━━━━━\u001b[0m\u001b[37m\u001b[0m \u001b[1m9s\u001b[0m 6ms/step - accuracy: 0.5099 - loss: 1.2982 - val_accuracy: 0.4925 - val_loss: 1.3229\n",
            "Epoch 3/50\n",
            "\u001b[1m587/587\u001b[0m \u001b[32m━━━━━━━━━━━━━━━━━━━━\u001b[0m\u001b[37m\u001b[0m \u001b[1m4s\u001b[0m 6ms/step - accuracy: 0.5875 - loss: 1.0921 - val_accuracy: 0.5064 - val_loss: 1.3344\n",
            "Epoch 4/50\n",
            "\u001b[1m587/587\u001b[0m \u001b[32m━━━━━━━━━━━━━━━━━━━━\u001b[0m\u001b[37m\u001b[0m \u001b[1m6s\u001b[0m 7ms/step - accuracy: 0.6368 - loss: 0.9599 - val_accuracy: 0.5261 - val_loss: 1.2535\n",
            "Epoch 5/50\n",
            "\u001b[1m587/587\u001b[0m \u001b[32m━━━━━━━━━━━━━━━━━━━━\u001b[0m\u001b[37m\u001b[0m \u001b[1m5s\u001b[0m 7ms/step - accuracy: 0.6828 - loss: 0.8479 - val_accuracy: 0.5363 - val_loss: 1.2598\n",
            "Epoch 6/50\n",
            "\u001b[1m587/587\u001b[0m \u001b[32m━━━━━━━━━━━━━━━━━━━━\u001b[0m\u001b[37m\u001b[0m \u001b[1m5s\u001b[0m 7ms/step - accuracy: 0.7230 - loss: 0.7534 - val_accuracy: 0.5569 - val_loss: 1.2739\n",
            "Epoch 7/50\n",
            "\u001b[1m587/587\u001b[0m \u001b[32m━━━━━━━━━━━━━━━━━━━━\u001b[0m\u001b[37m\u001b[0m \u001b[1m5s\u001b[0m 6ms/step - accuracy: 0.7640 - loss: 0.6526 - val_accuracy: 0.5564 - val_loss: 1.2979\n",
            "Epoch 8/50\n",
            "\u001b[1m587/587\u001b[0m \u001b[32m━━━━━━━━━━━━━━━━━━━━\u001b[0m\u001b[37m\u001b[0m \u001b[1m4s\u001b[0m 6ms/step - accuracy: 0.7964 - loss: 0.5667 - val_accuracy: 0.5623 - val_loss: 1.3399\n",
            "Epoch 9/50\n",
            "\u001b[1m587/587\u001b[0m \u001b[32m━━━━━━━━━━━━━━━━━━━━\u001b[0m\u001b[37m\u001b[0m \u001b[1m5s\u001b[0m 6ms/step - accuracy: 0.8281 - loss: 0.4868 - val_accuracy: 0.5556 - val_loss: 1.4595\n",
            "Epoch 10/50\n",
            "\u001b[1m587/587\u001b[0m \u001b[32m━━━━━━━━━━━━━━━━━━━━\u001b[0m\u001b[37m\u001b[0m \u001b[1m3s\u001b[0m 6ms/step - accuracy: 0.8523 - loss: 0.4182 - val_accuracy: 0.5627 - val_loss: 1.5376\n",
            "Epoch 11/50\n",
            "\u001b[1m587/587\u001b[0m \u001b[32m━━━━━━━━━━━━━━━━━━━━\u001b[0m\u001b[37m\u001b[0m \u001b[1m4s\u001b[0m 7ms/step - accuracy: 0.8772 - loss: 0.3560 - val_accuracy: 0.5534 - val_loss: 1.6611\n",
            "Epoch 12/50\n",
            "\u001b[1m587/587\u001b[0m \u001b[32m━━━━━━━━━━━━━━━━━━━━\u001b[0m\u001b[37m\u001b[0m \u001b[1m5s\u001b[0m 6ms/step - accuracy: 0.8881 - loss: 0.3137 - val_accuracy: 0.5478 - val_loss: 1.6795\n",
            "Epoch 13/50\n",
            "\u001b[1m587/587\u001b[0m \u001b[32m━━━━━━━━━━━━━━━━━━━━\u001b[0m\u001b[37m\u001b[0m \u001b[1m5s\u001b[0m 6ms/step - accuracy: 0.9065 - loss: 0.2679 - val_accuracy: 0.5599 - val_loss: 1.8060\n",
            "Epoch 14/50\n",
            "\u001b[1m587/587\u001b[0m \u001b[32m━━━━━━━━━━━━━━━━━━━━\u001b[0m\u001b[37m\u001b[0m \u001b[1m4s\u001b[0m 7ms/step - accuracy: 0.9136 - loss: 0.2387 - val_accuracy: 0.5584 - val_loss: 2.0012\n",
            "Epoch 15/50\n",
            "\u001b[1m587/587\u001b[0m \u001b[32m━━━━━━━━━━━━━━━━━━━━\u001b[0m\u001b[37m\u001b[0m \u001b[1m4s\u001b[0m 6ms/step - accuracy: 0.9264 - loss: 0.2144 - val_accuracy: 0.5499 - val_loss: 2.0499\n",
            "Epoch 16/50\n",
            "\u001b[1m587/587\u001b[0m \u001b[32m━━━━━━━━━━━━━━━━━━━━\u001b[0m\u001b[37m\u001b[0m \u001b[1m3s\u001b[0m 6ms/step - accuracy: 0.9318 - loss: 0.1971 - val_accuracy: 0.5566 - val_loss: 2.1586\n",
            "Epoch 17/50\n",
            "\u001b[1m587/587\u001b[0m \u001b[32m━━━━━━━━━━━━━━━━━━━━\u001b[0m\u001b[37m\u001b[0m \u001b[1m6s\u001b[0m 6ms/step - accuracy: 0.9361 - loss: 0.1826 - val_accuracy: 0.5534 - val_loss: 1.9874\n",
            "Epoch 18/50\n",
            "\u001b[1m587/587\u001b[0m \u001b[32m━━━━━━━━━━━━━━━━━━━━\u001b[0m\u001b[37m\u001b[0m \u001b[1m4s\u001b[0m 6ms/step - accuracy: 0.9404 - loss: 0.1654 - val_accuracy: 0.5566 - val_loss: 2.2765\n",
            "Epoch 19/50\n",
            "\u001b[1m587/587\u001b[0m \u001b[32m━━━━━━━━━━━━━━━━━━━━\u001b[0m\u001b[37m\u001b[0m \u001b[1m3s\u001b[0m 6ms/step - accuracy: 0.9456 - loss: 0.1583 - val_accuracy: 0.5549 - val_loss: 2.3016\n",
            "Epoch 20/50\n",
            "\u001b[1m587/587\u001b[0m \u001b[32m━━━━━━━━━━━━━━━━━━━━\u001b[0m\u001b[37m\u001b[0m \u001b[1m5s\u001b[0m 6ms/step - accuracy: 0.9500 - loss: 0.1485 - val_accuracy: 0.5610 - val_loss: 2.2333\n",
            "Epoch 21/50\n",
            "\u001b[1m587/587\u001b[0m \u001b[32m━━━━━━━━━━━━━━━━━━━━\u001b[0m\u001b[37m\u001b[0m \u001b[1m4s\u001b[0m 7ms/step - accuracy: 0.9532 - loss: 0.1353 - val_accuracy: 0.5551 - val_loss: 2.5598\n",
            "Epoch 22/50\n",
            "\u001b[1m587/587\u001b[0m \u001b[32m━━━━━━━━━━━━━━━━━━━━\u001b[0m\u001b[37m\u001b[0m \u001b[1m4s\u001b[0m 6ms/step - accuracy: 0.9506 - loss: 0.1418 - val_accuracy: 0.5569 - val_loss: 2.4541\n",
            "Epoch 23/50\n",
            "\u001b[1m587/587\u001b[0m \u001b[32m━━━━━━━━━━━━━━━━━━━━\u001b[0m\u001b[37m\u001b[0m \u001b[1m3s\u001b[0m 6ms/step - accuracy: 0.9542 - loss: 0.1308 - val_accuracy: 0.5543 - val_loss: 2.5191\n",
            "Epoch 24/50\n",
            "\u001b[1m587/587\u001b[0m \u001b[32m━━━━━━━━━━━━━━━━━━━━\u001b[0m\u001b[37m\u001b[0m \u001b[1m4s\u001b[0m 6ms/step - accuracy: 0.9549 - loss: 0.1260 - val_accuracy: 0.5527 - val_loss: 2.4595\n",
            "Epoch 25/50\n",
            "\u001b[1m587/587\u001b[0m \u001b[32m━━━━━━━━━━━━━━━━━━━━\u001b[0m\u001b[37m\u001b[0m \u001b[1m5s\u001b[0m 6ms/step - accuracy: 0.9595 - loss: 0.1198 - val_accuracy: 0.5566 - val_loss: 2.5258\n",
            "Epoch 26/50\n",
            "\u001b[1m587/587\u001b[0m \u001b[32m━━━━━━━━━━━━━━━━━━━━\u001b[0m\u001b[37m\u001b[0m \u001b[1m4s\u001b[0m 6ms/step - accuracy: 0.9589 - loss: 0.1165 - val_accuracy: 0.5536 - val_loss: 2.6433\n",
            "Epoch 27/50\n",
            "\u001b[1m587/587\u001b[0m \u001b[32m━━━━━━━━━━━━━━━━━━━━\u001b[0m\u001b[37m\u001b[0m \u001b[1m5s\u001b[0m 7ms/step - accuracy: 0.9585 - loss: 0.1133 - val_accuracy: 0.5655 - val_loss: 2.7295\n",
            "Epoch 28/50\n",
            "\u001b[1m587/587\u001b[0m \u001b[32m━━━━━━━━━━━━━━━━━━━━\u001b[0m\u001b[37m\u001b[0m \u001b[1m4s\u001b[0m 6ms/step - accuracy: 0.9595 - loss: 0.1170 - val_accuracy: 0.5484 - val_loss: 2.8100\n",
            "Epoch 29/50\n",
            "\u001b[1m587/587\u001b[0m \u001b[32m━━━━━━━━━━━━━━━━━━━━\u001b[0m\u001b[37m\u001b[0m \u001b[1m4s\u001b[0m 6ms/step - accuracy: 0.9646 - loss: 0.1090 - val_accuracy: 0.5618 - val_loss: 2.7317\n",
            "Epoch 30/50\n",
            "\u001b[1m587/587\u001b[0m \u001b[32m━━━━━━━━━━━━━━━━━━━━\u001b[0m\u001b[37m\u001b[0m \u001b[1m5s\u001b[0m 6ms/step - accuracy: 0.9655 - loss: 0.1004 - val_accuracy: 0.5555 - val_loss: 2.7087\n",
            "Epoch 31/50\n",
            "\u001b[1m587/587\u001b[0m \u001b[32m━━━━━━━━━━━━━━━━━━━━\u001b[0m\u001b[37m\u001b[0m \u001b[1m5s\u001b[0m 6ms/step - accuracy: 0.9614 - loss: 0.1128 - val_accuracy: 0.5608 - val_loss: 2.7725\n",
            "Epoch 32/50\n",
            "\u001b[1m587/587\u001b[0m \u001b[32m━━━━━━━━━━━━━━━━━━━━\u001b[0m\u001b[37m\u001b[0m \u001b[1m5s\u001b[0m 6ms/step - accuracy: 0.9652 - loss: 0.0998 - val_accuracy: 0.5629 - val_loss: 2.8761\n",
            "Epoch 33/50\n",
            "\u001b[1m587/587\u001b[0m \u001b[32m━━━━━━━━━━━━━━━━━━━━\u001b[0m\u001b[37m\u001b[0m \u001b[1m4s\u001b[0m 6ms/step - accuracy: 0.9655 - loss: 0.1004 - val_accuracy: 0.5621 - val_loss: 2.9133\n",
            "Epoch 34/50\n",
            "\u001b[1m587/587\u001b[0m \u001b[32m━━━━━━━━━━━━━━━━━━━━\u001b[0m\u001b[37m\u001b[0m \u001b[1m4s\u001b[0m 6ms/step - accuracy: 0.9632 - loss: 0.1113 - val_accuracy: 0.5618 - val_loss: 3.0135\n",
            "Epoch 35/50\n",
            "\u001b[1m587/587\u001b[0m \u001b[32m━━━━━━━━━━━━━━━━━━━━\u001b[0m\u001b[37m\u001b[0m \u001b[1m4s\u001b[0m 6ms/step - accuracy: 0.9660 - loss: 0.0975 - val_accuracy: 0.5737 - val_loss: 2.8547\n",
            "Epoch 36/50\n",
            "\u001b[1m587/587\u001b[0m \u001b[32m━━━━━━━━━━━━━━━━━━━━\u001b[0m\u001b[37m\u001b[0m \u001b[1m4s\u001b[0m 6ms/step - accuracy: 0.9661 - loss: 0.0945 - val_accuracy: 0.5608 - val_loss: 3.0118\n",
            "Epoch 37/50\n",
            "\u001b[1m587/587\u001b[0m \u001b[32m━━━━━━━━━━━━━━━━━━━━\u001b[0m\u001b[37m\u001b[0m \u001b[1m5s\u001b[0m 7ms/step - accuracy: 0.9686 - loss: 0.0932 - val_accuracy: 0.5530 - val_loss: 2.9454\n",
            "Epoch 38/50\n",
            "\u001b[1m587/587\u001b[0m \u001b[32m━━━━━━━━━━━━━━━━━━━━\u001b[0m\u001b[37m\u001b[0m \u001b[1m4s\u001b[0m 6ms/step - accuracy: 0.9690 - loss: 0.0891 - val_accuracy: 0.5586 - val_loss: 3.0851\n",
            "Epoch 39/50\n",
            "\u001b[1m587/587\u001b[0m \u001b[32m━━━━━━━━━━━━━━━━━━━━\u001b[0m\u001b[37m\u001b[0m \u001b[1m4s\u001b[0m 6ms/step - accuracy: 0.9715 - loss: 0.0851 - val_accuracy: 0.5558 - val_loss: 3.0417\n",
            "Epoch 40/50\n",
            "\u001b[1m587/587\u001b[0m \u001b[32m━━━━━━━━━━━━━━━━━━━━\u001b[0m\u001b[37m\u001b[0m \u001b[1m5s\u001b[0m 7ms/step - accuracy: 0.9685 - loss: 0.0953 - val_accuracy: 0.5555 - val_loss: 3.2017\n",
            "Epoch 41/50\n",
            "\u001b[1m587/587\u001b[0m \u001b[32m━━━━━━━━━━━━━━━━━━━━\u001b[0m\u001b[37m\u001b[0m \u001b[1m4s\u001b[0m 6ms/step - accuracy: 0.9687 - loss: 0.0946 - val_accuracy: 0.5644 - val_loss: 3.1803\n",
            "Epoch 42/50\n",
            "\u001b[1m587/587\u001b[0m \u001b[32m━━━━━━━━━━━━━━━━━━━━\u001b[0m\u001b[37m\u001b[0m \u001b[1m3s\u001b[0m 6ms/step - accuracy: 0.9719 - loss: 0.0833 - val_accuracy: 0.5581 - val_loss: 2.9703\n",
            "Epoch 43/50\n",
            "\u001b[1m587/587\u001b[0m \u001b[32m━━━━━━━━━━━━━━━━━━━━\u001b[0m\u001b[37m\u001b[0m \u001b[1m4s\u001b[0m 6ms/step - accuracy: 0.9724 - loss: 0.0835 - val_accuracy: 0.5603 - val_loss: 3.3192\n",
            "Epoch 44/50\n",
            "\u001b[1m587/587\u001b[0m \u001b[32m━━━━━━━━━━━━━━━━━━━━\u001b[0m\u001b[37m\u001b[0m \u001b[1m6s\u001b[0m 7ms/step - accuracy: 0.9718 - loss: 0.0819 - val_accuracy: 0.5592 - val_loss: 3.4258\n",
            "Epoch 45/50\n",
            "\u001b[1m587/587\u001b[0m \u001b[32m━━━━━━━━━━━━━━━━━━━━\u001b[0m\u001b[37m\u001b[0m \u001b[1m4s\u001b[0m 6ms/step - accuracy: 0.9698 - loss: 0.0933 - val_accuracy: 0.5530 - val_loss: 3.2256\n",
            "Epoch 46/50\n",
            "\u001b[1m587/587\u001b[0m \u001b[32m━━━━━━━━━━━━━━━━━━━━\u001b[0m\u001b[37m\u001b[0m \u001b[1m3s\u001b[0m 6ms/step - accuracy: 0.9710 - loss: 0.0859 - val_accuracy: 0.5549 - val_loss: 3.1832\n",
            "Epoch 47/50\n",
            "\u001b[1m587/587\u001b[0m \u001b[32m━━━━━━━━━━━━━━━━━━━━\u001b[0m\u001b[37m\u001b[0m \u001b[1m4s\u001b[0m 6ms/step - accuracy: 0.9746 - loss: 0.0788 - val_accuracy: 0.5517 - val_loss: 3.3583\n",
            "Epoch 48/50\n",
            "\u001b[1m587/587\u001b[0m \u001b[32m━━━━━━━━━━━━━━━━━━━━\u001b[0m\u001b[37m\u001b[0m \u001b[1m4s\u001b[0m 6ms/step - accuracy: 0.9697 - loss: 0.0898 - val_accuracy: 0.5493 - val_loss: 3.3904\n",
            "Epoch 49/50\n",
            "\u001b[1m587/587\u001b[0m \u001b[32m━━━━━━━━━━━━━━━━━━━━\u001b[0m\u001b[37m\u001b[0m \u001b[1m3s\u001b[0m 6ms/step - accuracy: 0.9734 - loss: 0.0841 - val_accuracy: 0.5465 - val_loss: 3.3716\n",
            "Epoch 50/50\n",
            "\u001b[1m587/587\u001b[0m \u001b[32m━━━━━━━━━━━━━━━━━━━━\u001b[0m\u001b[37m\u001b[0m \u001b[1m5s\u001b[0m 6ms/step - accuracy: 0.9749 - loss: 0.0745 - val_accuracy: 0.5569 - val_loss: 3.3099\n"
          ]
        }
      ]
    },
    {
      "cell_type": "markdown",
      "source": [
        "## Model evaluation"
      ],
      "metadata": {
        "id": "zixwuhaJQGcK"
      }
    },
    {
      "cell_type": "code",
      "source": [
        "test_loss, test_accuracy = model.evaluate(test_images, test_labels)\n",
        "\n",
        "print(f\"Test Loss: {test_loss}\")\n",
        "print(f\"Test Accuracy: {test_accuracy}\")\n"
      ],
      "metadata": {
        "colab": {
          "base_uri": "https://localhost:8080/"
        },
        "id": "Aa4K9wBMEFCv",
        "outputId": "516787d2-a334-4993-f9f4-404ad59d6d40"
      },
      "execution_count": 16,
      "outputs": [
        {
          "output_type": "stream",
          "name": "stdout",
          "text": [
            "\u001b[1m281/281\u001b[0m \u001b[32m━━━━━━━━━━━━━━━━━━━━\u001b[0m\u001b[37m\u001b[0m \u001b[1m2s\u001b[0m 4ms/step - accuracy: 0.5514 - loss: 3.3670\n",
            "Test Loss: 3.309556484222412\n",
            "Test Accuracy: 0.5555059909820557\n"
          ]
        }
      ]
    },
    {
      "cell_type": "markdown",
      "source": [
        "## Performance Metrics"
      ],
      "metadata": {
        "id": "hEtKhTS_P9yL"
      }
    },
    {
      "cell_type": "code",
      "source": [
        "from sklearn.metrics import confusion_matrix, classification_report\n",
        "\n",
        "predicted_labels = model.predict(test_images)\n",
        "predicted_labels = np.argmax(predicted_labels, axis=1)\n",
        "\n",
        "conf_matrix = confusion_matrix(test_labels.argmax(axis=1), predicted_labels)\n",
        "\n",
        "print(\"Confusion Matrix :\")\n",
        "print(conf_matrix)\n",
        "\n",
        "class_report = classification_report(test_labels.argmax(axis=1), predicted_labels, target_names=['Colère', 'Dégoût', 'Peur', 'Joie', 'Tristesse', 'Surprise', 'Neutre'])\n",
        "print(\"Classification Report :\")\n",
        "print(class_report)\n"
      ],
      "metadata": {
        "colab": {
          "base_uri": "https://localhost:8080/"
        },
        "id": "4j93WR7fOjml",
        "outputId": "3cf9d0d3-fdd5-4ece-cb9d-3aac61c1ec65"
      },
      "execution_count": 19,
      "outputs": [
        {
          "output_type": "stream",
          "name": "stdout",
          "text": [
            "\u001b[1m281/281\u001b[0m \u001b[32m━━━━━━━━━━━━━━━━━━━━\u001b[0m\u001b[37m\u001b[0m \u001b[1m0s\u001b[0m 1ms/step\n",
            "Confusion Matrix :\n",
            "[[ 468   12  165  137  220   67  166]\n",
            " [  24   64   11    5   17    6    3]\n",
            " [ 114    6  522  115  255  146  146]\n",
            " [  66    5   82 1704  152   62  177]\n",
            " [ 128   10  213  152  662   50  284]\n",
            " [  26    0   90   64   33  737   40]\n",
            " [  84    5  151  198  248   53  827]]\n",
            "Classification Report :\n",
            "              precision    recall  f1-score   support\n",
            "\n",
            "      Colère       0.51      0.38      0.44      1235\n",
            "      Dégoût       0.63      0.49      0.55       130\n",
            "        Peur       0.42      0.40      0.41      1304\n",
            "        Joie       0.72      0.76      0.74      2248\n",
            "   Tristesse       0.42      0.44      0.43      1499\n",
            "    Surprise       0.66      0.74      0.70       990\n",
            "      Neutre       0.50      0.53      0.52      1566\n",
            "\n",
            "    accuracy                           0.56      8972\n",
            "   macro avg       0.55      0.53      0.54      8972\n",
            "weighted avg       0.55      0.56      0.55      8972\n",
            "\n"
          ]
        }
      ]
    }
  ]
}